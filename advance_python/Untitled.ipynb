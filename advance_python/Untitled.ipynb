{
 "cells": [
  {
   "cell_type": "markdown",
   "id": "1050d539",
   "metadata": {},
   "source": [
    "## 복잡한 식 대신 도우미 함수 작성하기"
   ]
  },
  {
   "cell_type": "code",
   "execution_count": 1,
   "id": "83a9741c",
   "metadata": {},
   "outputs": [],
   "source": [
    "from urllib.parse import parse_qs"
   ]
  },
  {
   "cell_type": "code",
   "execution_count": 22,
   "id": "8a1ff41c",
   "metadata": {},
   "outputs": [],
   "source": [
    "my_values = parse_qs('빨강=5&파랑=0&초록=',\n",
    "                    keep_blank_values=True)"
   ]
  },
  {
   "cell_type": "code",
   "execution_count": 23,
   "id": "a5a65282",
   "metadata": {},
   "outputs": [
    {
     "name": "stdout",
     "output_type": "stream",
     "text": [
      "<class 'str'>\n",
      "{'빨강': ['5'], '파랑': ['0'], '초록': ['']}\n"
     ]
    }
   ],
   "source": [
    "print(type(repr(my_values)))\n",
    "print(repr(my_values))\n",
    "# {'빨강': ['5'], '파랑': ['0']} <- keep_blank_values=False 했을 때"
   ]
  },
  {
   "cell_type": "code",
   "execution_count": 24,
   "id": "163a238c",
   "metadata": {},
   "outputs": [
    {
     "name": "stdout",
     "output_type": "stream",
     "text": [
      "<class 'dict'>\n",
      "{'빨강': ['5'], '파랑': ['0'], '초록': ['']}\n"
     ]
    }
   ],
   "source": [
    "print(type(my_values))\n",
    "print(my_values)"
   ]
  },
  {
   "cell_type": "code",
   "execution_count": 33,
   "id": "ce006b5a",
   "metadata": {},
   "outputs": [
    {
     "name": "stdout",
     "output_type": "stream",
     "text": [
      "빨강: ['5']\n",
      "초록: ['']\n",
      "투명도: None\n"
     ]
    }
   ],
   "source": [
    "print('빨강:', my_values.get('빨강'))\n",
    "print('초록:', my_values.get('초록'))\n",
    "print('투명도:', my_values.get('투명도'))"
   ]
  },
  {
   "cell_type": "code",
   "execution_count": 45,
   "id": "3baf8c0e",
   "metadata": {},
   "outputs": [
    {
     "name": "stdout",
     "output_type": "stream",
     "text": [
      "빨강: '5'\n",
      "초록: 0\n",
      "투명도: 0\n"
     ]
    }
   ],
   "source": [
    "red = my_values.get('빨강', [''])[0] or 0\n",
    "green = my_values.get('초록', [''])[0] or 0\n",
    "opacity = my_values.get('투명도', [''])[0] or 0\n",
    "\n",
    "print(f'빨강: {red!r}')\n",
    "print(f'초록: {green!r}')\n",
    "print(f'투명도: {opacity!r}')"
   ]
  },
  {
   "cell_type": "code",
   "execution_count": 48,
   "id": "79986558",
   "metadata": {},
   "outputs": [
    {
     "name": "stdout",
     "output_type": "stream",
     "text": [
      "빨강: 5\n",
      "초록: 0\n",
      "투명도: 0\n"
     ]
    }
   ],
   "source": [
    "red = int(my_values.get('빨강', [''])[0] or 0)\n",
    "green = my_values.get('초록', [''])[0] or 0\n",
    "opacity = my_values.get('투명도', [''])[0] or 0\n",
    "\n",
    "print(f'빨강: {red!r}')\n",
    "print(f'초록: {green!r}')\n",
    "print(f'투명도: {opacity!r}')"
   ]
  },
  {
   "cell_type": "code",
   "execution_count": 51,
   "id": "4dad30c5",
   "metadata": {},
   "outputs": [
    {
     "name": "stdout",
     "output_type": "stream",
     "text": [
      "['5']\n",
      "5\n"
     ]
    }
   ],
   "source": [
    "red_str = my_values.get('빨강',[''])\n",
    "print(red_str)\n",
    "red = int(red_str[0]) if red_str[0] else 0\n",
    "print(red)"
   ]
  },
  {
   "cell_type": "code",
   "execution_count": 53,
   "id": "32cfc2fc",
   "metadata": {},
   "outputs": [
    {
     "name": "stdout",
     "output_type": "stream",
     "text": [
      "['']\n",
      "0\n"
     ]
    }
   ],
   "source": [
    "green_str = my_values.get('초록', [''])\n",
    "print(green_str)\n",
    "if green_str[0]:\n",
    "    green = int(green_str[0])\n",
    "else:\n",
    "    green = 0\n",
    "print(green)"
   ]
  },
  {
   "cell_type": "markdown",
   "id": "34d94fe8",
   "metadata": {},
   "source": [
    "### 도우미 함수 작성!"
   ]
  },
  {
   "cell_type": "code",
   "execution_count": 57,
   "id": "1fa3b6ea",
   "metadata": {},
   "outputs": [
    {
     "data": {
      "text/plain": [
       "{'빨강': ['5'], '파랑': ['0'], '초록': ['']}"
      ]
     },
     "execution_count": 57,
     "metadata": {},
     "output_type": "execute_result"
    }
   ],
   "source": [
    "my_values"
   ]
  },
  {
   "cell_type": "code",
   "execution_count": 56,
   "id": "b8dba27d",
   "metadata": {},
   "outputs": [
    {
     "name": "stdout",
     "output_type": "stream",
     "text": [
      "5\n",
      "0\n",
      "0\n"
     ]
    }
   ],
   "source": [
    "def get_first_int(values, key, default=0):\n",
    "    found = values.get(key, [''])\n",
    "    if found[0]:\n",
    "        return int(found[0])\n",
    "    return default\n",
    "\n",
    "red = get_first_int(my_values, '빨강')\n",
    "opacity = get_first_int(my_values, '투명도')\n",
    "green = get_first_int(my_values, '초록')\n",
    "\n",
    "print(red)\n",
    "print(opacity)\n",
    "print(green)"
   ]
  },
  {
   "cell_type": "code",
   "execution_count": null,
   "id": "8aea6b95",
   "metadata": {},
   "outputs": [],
   "source": []
  },
  {
   "cell_type": "markdown",
   "id": "1b163a9a",
   "metadata": {},
   "source": [
    "## 인덱스 사용 대신 대입을 사용해 데이터 언패킹!"
   ]
  },
  {
   "cell_type": "code",
   "execution_count": 61,
   "id": "4559a838",
   "metadata": {},
   "outputs": [
    {
     "name": "stdout",
     "output_type": "stream",
     "text": [
      "dict_items([('감자칩', 140), ('팝콘', 80), ('땅콩', 190)])\n",
      "(('감자칩', 140), ('팝콘', 80), ('땅콩', 190))\n",
      "('팝콘', 80)\n"
     ]
    }
   ],
   "source": [
    "snack_calories = {\n",
    "    '감자칩': 140,\n",
    "    '팝콘': 80,\n",
    "    '땅콩': 190,\n",
    "}\n",
    "\n",
    "print(snack_calories.items())\n",
    "items = tuple(snack_calories.items())\n",
    "print(items)\n",
    "print(items[1]) # 튜플이 만들어 지면 인덱스를 통해 새 값을 대입해서 튜플 변경 불가"
   ]
  },
  {
   "cell_type": "markdown",
   "id": "dcc949fb",
   "metadata": {},
   "source": [
    "### 언패킹 -> 한 문장 안에서 여러 값을 대입할 수 있다"
   ]
  },
  {
   "cell_type": "code",
   "execution_count": 63,
   "id": "b58fad1f",
   "metadata": {},
   "outputs": [
    {
     "name": "stdout",
     "output_type": "stream",
     "text": [
      "호박엿 & 식혜\n"
     ]
    }
   ],
   "source": [
    "item = ('호박엿', '식혜')\n",
    "first, second = item # 언패킹\n",
    "print(first, '&', second)"
   ]
  },
  {
   "cell_type": "code",
   "execution_count": 65,
   "id": "06910e95",
   "metadata": {},
   "outputs": [
    {
     "name": "stdout",
     "output_type": "stream",
     "text": [
      "dict_keys(['짭조름한 과자', '달콤한 과자', '채소'])\n",
      "dict_values([('프레즐', 100), ('쿠키', 180), ('당근', 20)])\n",
      "dict_items([('짭조름한 과자', ('프레즐', 100)), ('달콤한 과자', ('쿠키', 180)), ('채소', ('당근', 20))])\n"
     ]
    }
   ],
   "source": [
    "favorite_snacks = {\n",
    "    '짭조름한 과자': ('프레즐', 100),\n",
    "    '달콤한 과자': ('쿠키', 180),\n",
    "    '채소': ('당근', 20),\n",
    "}\n",
    "print(favorite_snacks.keys())\n",
    "print(favorite_snacks.values())\n",
    "print(favorite_snacks.items())"
   ]
  },
  {
   "cell_type": "code",
   "execution_count": 68,
   "id": "51fc68b2",
   "metadata": {},
   "outputs": [
    {
     "name": "stdout",
     "output_type": "stream",
     "text": [
      "제일 좋아하는 짭조름한 과자 는 프레즐, 100 칼로리입니다.\n",
      "제일 좋아하는 달콤한 과자 는 쿠키,  180 칼로리입니다.\n",
      "제일 좋아하는 채소 는 당근,  20 칼로리입니다.\n"
     ]
    }
   ],
   "source": [
    "favorite_snacks = {\n",
    "    '짭조름한 과자': ('프레즐', 100),\n",
    "    '달콤한 과자': ('쿠키', 180),\n",
    "    '채소': ('당근', 20),\n",
    "}\n",
    "\n",
    "((type1, (name1, cals1)),\n",
    " (type2, (name2, cals2)),\n",
    " (type3, (name3, cals3))) = favorite_snacks.items()\n",
    "\n",
    "print(f'제일 좋아하는 {type1} 는 {name1}, {cals1} 칼로리입니다.')\n",
    "print(f'제일 좋아하는 {type2} 는 {name2},  {cals2} 칼로리입니다.')\n",
    "print(f'제일 좋아하는 {type3} 는 {name3},  {cals3} 칼로리입니다.')\n"
   ]
  },
  {
   "cell_type": "code",
   "execution_count": 70,
   "id": "cd4834d1",
   "metadata": {},
   "outputs": [
    {
     "name": "stdout",
     "output_type": "stream",
     "text": [
      "['프레즐', '당근', '쑥갓', '베이컨']\n",
      "['당근', '베이컨', '쑥갓', '프레즐']\n"
     ]
    }
   ],
   "source": [
    "def bubble_sort(a):\n",
    "    for _ in range(len(a)):\n",
    "        for i in range(1, len(a)):\n",
    "            if a[i] < a[i-1]:\n",
    "                temp = a[i]\n",
    "                a[i] = a[i-1]\n",
    "                a[i-1] = temp\n",
    "\n",
    "names = ['프레즐', '당근', '쑥갓', '베이컨']\n",
    "print(names)\n",
    "bubble_sort(names)\n",
    "print(names)"
   ]
  },
  {
   "cell_type": "code",
   "execution_count": 71,
   "id": "f4d3bdd1",
   "metadata": {},
   "outputs": [
    {
     "name": "stdout",
     "output_type": "stream",
     "text": [
      "['프레즐', '당근', '쑥갓', '베이컨']\n",
      "['당근', '베이컨', '쑥갓', '프레즐']\n"
     ]
    }
   ],
   "source": [
    "def bubble_sort(a):\n",
    "    for _ in range(len(a)):\n",
    "        for i in range(1, len(a)):\n",
    "            if a[i] < a[i-1]:\n",
    "                a[i-1], a[i] = a[i], a[i-1] # 언패킹을 활용한 맞바꾸기\n",
    "\n",
    "\n",
    "names = ['프레즐', '당근', '쑥갓', '베이컨']\n",
    "print(names)\n",
    "bubble_sort(names)\n",
    "print(names)"
   ]
  },
  {
   "cell_type": "code",
   "execution_count": 72,
   "id": "66c77ff1",
   "metadata": {},
   "outputs": [
    {
     "name": "stdout",
     "output_type": "stream",
     "text": [
      "#1: 베이컨 은 350 칼로리입니다.\n",
      "#2: 도넛 은 240 칼로리입니다.\n",
      "#3: 머핀 은 190 칼로리입니다.\n"
     ]
    }
   ],
   "source": [
    "snacks = [('베이컨', 350), ('도넛', 240), ('머핀', 190)]\n",
    "for i in range(len(snacks)):\n",
    "    item = snacks[i]\n",
    "    name = item[0]\n",
    "    calories = item[1]\n",
    "    print(f'#{i+1}: {name} 은 {calories} 칼로리입니다.')"
   ]
  },
  {
   "cell_type": "code",
   "execution_count": 73,
   "id": "ce913e47",
   "metadata": {},
   "outputs": [
    {
     "name": "stdout",
     "output_type": "stream",
     "text": [
      "#1: 베이컨 은 350 칼로리입니다.\n",
      "#2: 도넛 은 240 칼로리입니다.\n",
      "#3: 머핀 은 190 칼로리입니다.\n"
     ]
    }
   ],
   "source": [
    "for rank, (name, calories) in enumerate(snacks, 1):\n",
    "    print(f'#{rank}: {name} 은 {calories} 칼로리입니다.')"
   ]
  },
  {
   "cell_type": "code",
   "execution_count": 76,
   "id": "541eeec5",
   "metadata": {},
   "outputs": [
    {
     "name": "stdout",
     "output_type": "stream",
     "text": [
      "#1: 베이컨 은 350 칼로리입니다.\n",
      "#2: 도넛 은 240 칼로리입니다.\n",
      "#3: 머핀 은 190 칼로리입니다.\n"
     ]
    }
   ],
   "source": [
    "for rank, (name, calories) in enumerate(snacks):\n",
    "    print(f'#{rank+1}: {name} 은 {calories} 칼로리입니다.')"
   ]
  },
  {
   "cell_type": "markdown",
   "id": "3a31e0c5",
   "metadata": {},
   "source": [
    "## range 보다는 enumerate !"
   ]
  },
  {
   "cell_type": "code",
   "execution_count": 128,
   "id": "0913b846",
   "metadata": {},
   "outputs": [
    {
     "name": "stdout",
     "output_type": "stream",
     "text": [
      "0b11111111\n",
      "0b1\n",
      "1\n"
     ]
    }
   ],
   "source": [
    "n = 255\n",
    "print(bin(n))\n",
    "n = n >> 7 # 255 -> 1로 이루어진 8비트에서 오른쪽으로 7비트 밀어내서 1비트만 남는다\n",
    "print(bin(n))\n",
    "print(n)"
   ]
  },
  {
   "cell_type": "code",
   "execution_count": 119,
   "id": "52e9426a",
   "metadata": {},
   "outputs": [
    {
     "name": "stdout",
     "output_type": "stream",
     "text": [
      "0b11111111\n",
      "0b111111110\n",
      "0b111111111\n",
      "0b1111111110\n",
      "0b111111111\n"
     ]
    }
   ],
   "source": [
    "n = 255\n",
    "print(bin(n))\n",
    "print(bin(n << 1))\n",
    "n |= n << 1 # 1비트 만큼 왼쪽으로\n",
    "print(bin(n)) \n",
    "n = n << 1\n",
    "print(bin(n))\n",
    "n = n >> 1 # 1비트 만큼 오른쪽으로 \n",
    "print(bin(n))"
   ]
  },
  {
   "cell_type": "code",
   "execution_count": 129,
   "id": "b1d88403",
   "metadata": {},
   "outputs": [
    {
     "name": "stdout",
     "output_type": "stream",
     "text": [
      "<class 'str'>\n",
      "0b11101010101100111110000111010011\n"
     ]
    }
   ],
   "source": [
    "from random import randint\n",
    "\n",
    "random_bits = 0\n",
    "for i in range(32):\n",
    "    if randint(0, 1):\n",
    "        random_bits |= 1 << i\n",
    "\n",
    "print(type(bin(random_bits)))\n",
    "print(bin(random_bits)) # 전달받은 integer 혹은 long integer 자료형의 값을 이진수(binary) 문자열로 돌려준다. "
   ]
  },
  {
   "cell_type": "code",
   "execution_count": 105,
   "id": "3440687e",
   "metadata": {
    "scrolled": false
   },
   "outputs": [
    {
     "name": "stdout",
     "output_type": "stream",
     "text": [
      "Help on built-in function bin in module builtins:\n",
      "\n",
      "bin(number, /)\n",
      "    Return the binary representation of an integer.\n",
      "    \n",
      "    >>> bin(2796202)\n",
      "    '0b1010101010101010101010'\n",
      "\n"
     ]
    }
   ],
   "source": [
    "help(bin)"
   ]
  },
  {
   "cell_type": "code",
   "execution_count": 138,
   "id": "82b1545b",
   "metadata": {},
   "outputs": [
    {
     "name": "stdout",
     "output_type": "stream",
     "text": [
      "바닐라 맛있어요.\n",
      "초콜릿 맛있어요.\n",
      "피칸 맛있어요.\n",
      "딸기 맛있어요.\n",
      "1: 바닐라\n",
      "2: 초콜릿\n",
      "3: 피칸\n",
      "4: 딸기\n"
     ]
    }
   ],
   "source": [
    "flavor_list = ['바닐라', '초콜릿', '피칸', '딸기']\n",
    "for flavor in flavor_list:\n",
    "    print(f'{flavor} 맛있어요.')\n",
    "\n",
    "for i in range(len(flavor_list)):\n",
    "    flavor = flavor_list[i]\n",
    "    print(f'{i + 1}: {flavor}')"
   ]
  },
  {
   "cell_type": "code",
   "execution_count": 139,
   "id": "fc10b982",
   "metadata": {},
   "outputs": [
    {
     "name": "stdout",
     "output_type": "stream",
     "text": [
      "(0, '바닐라')\n",
      "(1, '초콜릿')\n"
     ]
    }
   ],
   "source": [
    "it = enumerate(flavor_list)\n",
    "print(next(it))\n",
    "print(next(it))\n"
   ]
  },
  {
   "cell_type": "code",
   "execution_count": 140,
   "id": "dc3b6791",
   "metadata": {},
   "outputs": [
    {
     "name": "stdout",
     "output_type": "stream",
     "text": [
      "(2, '피칸')\n",
      "(3, '딸기')\n"
     ]
    }
   ],
   "source": [
    "print(next(it))\n",
    "print(next(it))"
   ]
  },
  {
   "cell_type": "code",
   "execution_count": 141,
   "id": "756a7cd1",
   "metadata": {},
   "outputs": [
    {
     "ename": "StopIteration",
     "evalue": "",
     "output_type": "error",
     "traceback": [
      "\u001b[1;31m---------------------------------------------------------------------------\u001b[0m",
      "\u001b[1;31mStopIteration\u001b[0m                             Traceback (most recent call last)",
      "\u001b[1;32m<ipython-input-141-4d0222393be1>\u001b[0m in \u001b[0;36m<module>\u001b[1;34m\u001b[0m\n\u001b[1;32m----> 1\u001b[1;33m \u001b[0mprint\u001b[0m\u001b[1;33m(\u001b[0m\u001b[0mnext\u001b[0m\u001b[1;33m(\u001b[0m\u001b[0mit\u001b[0m\u001b[1;33m)\u001b[0m\u001b[1;33m)\u001b[0m\u001b[1;33m\u001b[0m\u001b[1;33m\u001b[0m\u001b[0m\n\u001b[0m",
      "\u001b[1;31mStopIteration\u001b[0m: "
     ]
    }
   ],
   "source": [
    "print(next(it))"
   ]
  },
  {
   "cell_type": "code",
   "execution_count": 144,
   "id": "515ea3de",
   "metadata": {},
   "outputs": [
    {
     "name": "stdout",
     "output_type": "stream",
     "text": [
      "1: 바닐라\n",
      "2: 초콜릿\n",
      "3: 피칸\n",
      "4: 딸기\n",
      "\n",
      "1: 바닐라\n",
      "2: 초콜릿\n",
      "3: 피칸\n",
      "4: 딸기\n"
     ]
    }
   ],
   "source": [
    "for i, flavor in enumerate(flavor_list):\n",
    "    print(f'{i + 1}: {flavor}')\n",
    "    \n",
    "print()\n",
    "\n",
    "for i, flavor in enumerate(flavor_list, 1):\n",
    "    print(f'{i}: {flavor}')"
   ]
  },
  {
   "cell_type": "markdown",
   "id": "beb5c763",
   "metadata": {},
   "source": [
    "## 여러 이터레이션에 대해 나란히 루프를 수행하려면 zip 을 사용"
   ]
  },
  {
   "cell_type": "code",
   "execution_count": 151,
   "id": "e770c501",
   "metadata": {},
   "outputs": [
    {
     "name": "stdout",
     "output_type": "stream",
     "text": [
      "['Cecilia', '남궁민수', '毛泽东']\n",
      "[7, 4, 3]\n"
     ]
    }
   ],
   "source": [
    "names = ['Cecilia', '남궁민수', '毛泽东']\n",
    "print(names)\n",
    "counts = [len(n) for n in names]\n",
    "print(counts)"
   ]
  },
  {
   "cell_type": "code",
   "execution_count": 150,
   "id": "985c4d77",
   "metadata": {},
   "outputs": [
    {
     "name": "stdout",
     "output_type": "stream",
     "text": [
      "Cecilia\n"
     ]
    }
   ],
   "source": [
    "longest_name = None\n",
    "max_count = 0\n",
    "\n",
    "# range 사용\n",
    "for i in range(len(names)):\n",
    "    count = counts[i]\n",
    "    if count > max_count:\n",
    "        longest_name = names[i]\n",
    "        max_count = count\n",
    "\n",
    "print(longest_name)"
   ]
  },
  {
   "cell_type": "code",
   "execution_count": 152,
   "id": "e1be9b2b",
   "metadata": {},
   "outputs": [
    {
     "name": "stdout",
     "output_type": "stream",
     "text": [
      "Cecilia\n"
     ]
    }
   ],
   "source": [
    "longest_name = None\n",
    "max_count = 0\n",
    "\n",
    "# enumerate 사용\n",
    "for i, name in enumerate(names):\n",
    "    count = counts[i]\n",
    "    if count > max_count:\n",
    "        longest_name = name\n",
    "        max_count = count\n",
    "\n",
    "print(longest_name)"
   ]
  },
  {
   "cell_type": "code",
   "execution_count": 153,
   "id": "daba455e",
   "metadata": {},
   "outputs": [
    {
     "name": "stdout",
     "output_type": "stream",
     "text": [
      "Cecilia\n"
     ]
    }
   ],
   "source": [
    "longest_name = None\n",
    "max_count = 0\n",
    "\n",
    "# zip 사용\n",
    "for name, count in zip(names, counts):\n",
    "    if count > max_count:\n",
    "        longest_name = name\n",
    "        max_count = count\n",
    "\n",
    "print(longest_name)"
   ]
  },
  {
   "cell_type": "markdown",
   "id": "59052ca5",
   "metadata": {},
   "source": [
    "#### 가장 짧은 이터레이터 길이까지만 튜플을 내놓고 더 긴 이터레이터의 나머지 원소는 무시한다"
   ]
  },
  {
   "cell_type": "code",
   "execution_count": 154,
   "id": "9e68fb01",
   "metadata": {},
   "outputs": [
    {
     "name": "stdout",
     "output_type": "stream",
     "text": [
      "Cecilia\n",
      "남궁민수\n",
      "毛泽东\n"
     ]
    }
   ],
   "source": [
    "names.append('Rosalind')\n",
    "for name, count in zip(names, counts):\n",
    "    print(name)"
   ]
  },
  {
   "cell_type": "code",
   "execution_count": 156,
   "id": "bbba7e79",
   "metadata": {},
   "outputs": [
    {
     "name": "stdout",
     "output_type": "stream",
     "text": [
      "['Cecilia', '남궁민수', '毛泽东', 'Rosalind']\n",
      "[7, 4, 3]\n"
     ]
    }
   ],
   "source": [
    "print(names)\n",
    "print(counts)"
   ]
  },
  {
   "cell_type": "markdown",
   "id": "8a928059",
   "metadata": {},
   "source": [
    "#### 가장 짧은 이터레이터에 맞춰 길이를 제한하지 않고 길이가 서로 다른 이터레이터에 대해 루프를 수행하려면 itertools 내장 모듈의 zip_longest 함수를 사용!"
   ]
  },
  {
   "cell_type": "code",
   "execution_count": 157,
   "id": "9b7939ce",
   "metadata": {},
   "outputs": [
    {
     "name": "stdout",
     "output_type": "stream",
     "text": [
      "Cecilia: 7\n",
      "남궁민수: 4\n",
      "毛泽东: 3\n",
      "Rosalind: None\n"
     ]
    }
   ],
   "source": [
    "import itertools\n",
    "for name, count in itertools.zip_longest(names, counts):\n",
    "    print(f'{name}: {count}')"
   ]
  },
  {
   "cell_type": "markdown",
   "id": "fbcdfb05",
   "metadata": {},
   "source": [
    "## for나 while 루프 뒤에 else 사용말기"
   ]
  },
  {
   "cell_type": "code",
   "execution_count": 158,
   "id": "33ef8771",
   "metadata": {},
   "outputs": [
    {
     "name": "stdout",
     "output_type": "stream",
     "text": [
      "Loop 0\n",
      "Loop 1\n",
      "Loop 2\n",
      "Else block!\n"
     ]
    }
   ],
   "source": [
    "for i in range(3):\n",
    "    print('Loop', i)\n",
    "else:\n",
    "    print('Else block!')"
   ]
  },
  {
   "cell_type": "code",
   "execution_count": 159,
   "id": "9722e32b",
   "metadata": {},
   "outputs": [
    {
     "name": "stdout",
     "output_type": "stream",
     "text": [
      "Loop 0\n",
      "Loop 1\n"
     ]
    }
   ],
   "source": [
    "for i in range(3):\n",
    "    print('Loop', i)\n",
    "    if i == 1:\n",
    "        break\n",
    "else:\n",
    "    print('Else block!')"
   ]
  },
  {
   "cell_type": "code",
   "execution_count": 160,
   "id": "413a3fee",
   "metadata": {},
   "outputs": [
    {
     "name": "stdout",
     "output_type": "stream",
     "text": [
      "For Else block!\n"
     ]
    }
   ],
   "source": [
    "for x in []:\n",
    "    print('이 줄은 실행되지 않음')\n",
    "else:\n",
    "    print('For Else block!')"
   ]
  },
  {
   "cell_type": "code",
   "execution_count": 161,
   "id": "c6bd65b0",
   "metadata": {},
   "outputs": [
    {
     "name": "stdout",
     "output_type": "stream",
     "text": [
      "While Else block!\n"
     ]
    }
   ],
   "source": [
    "while False:\n",
    "    print('이 줄은 실행되지 않음')\n",
    "else:\n",
    "    print('While Else block!')"
   ]
  },
  {
   "cell_type": "code",
   "execution_count": 162,
   "id": "c2297081",
   "metadata": {},
   "outputs": [
    {
     "name": "stdout",
     "output_type": "stream",
     "text": [
      "검사 중 2\n",
      "검사 중 3\n",
      "검사 중 4\n",
      "서로소\n"
     ]
    }
   ],
   "source": [
    "a = 4\n",
    "b = 9\n",
    "for i in range(2, min(a, b) + 1):\n",
    "    print('검사 중', i)\n",
    "    if a % i == 0 and b % i == 0:\n",
    "        print('서로소 아님')\n",
    "        break\n",
    "else:\n",
    "    print('서로소')"
   ]
  },
  {
   "cell_type": "code",
   "execution_count": 171,
   "id": "293dc710",
   "metadata": {},
   "outputs": [
    {
     "name": "stdout",
     "output_type": "stream",
     "text": [
      "True\n",
      "False\n"
     ]
    }
   ],
   "source": [
    "def coprime(a, b):\n",
    "    for i in range(2, min(a, b) + 1):\n",
    "        if a % i == 0 and b % i == 0:\n",
    "            return False\n",
    "    return True\n",
    "\n",
    "print(coprime(4, 9))\n",
    "print(coprime(3, 6))"
   ]
  },
  {
   "cell_type": "code",
   "execution_count": 172,
   "id": "768e1ed9",
   "metadata": {},
   "outputs": [
    {
     "name": "stdout",
     "output_type": "stream",
     "text": [
      "True\n",
      "False\n"
     ]
    }
   ],
   "source": [
    "def coprime_alternate(a, b):\n",
    "    is_coprime = True\n",
    "    for i in range(2, min(a, b) + 1):\n",
    "        if a % i == 0 and b % i == 0:\n",
    "            is_coprime = False\n",
    "            break\n",
    "    return is_coprime\n",
    "\n",
    "print(coprime_alternate(4, 9))\n",
    "print(coprime_alternate(3, 6))"
   ]
  },
  {
   "cell_type": "code",
   "execution_count": null,
   "id": "214a67a0",
   "metadata": {},
   "outputs": [],
   "source": []
  },
  {
   "cell_type": "code",
   "execution_count": 191,
   "id": "1edb6cc4",
   "metadata": {},
   "outputs": [],
   "source": [
    "fresh_fruit = {\n",
    "    '사과': 10,\n",
    "    '바나나': 8,\n",
    "    '레몬': 5,\n",
    "}"
   ]
  },
  {
   "cell_type": "code",
   "execution_count": 192,
   "id": "bb061043",
   "metadata": {},
   "outputs": [],
   "source": [
    "def make_lemonade(count):\n",
    "    n = 1\n",
    "    print(f'레몬 {count*n} 개로 레모네이드 {count//n} 개를 만듭니다.')\n",
    "    fresh_fruit['레몬'] -= (count * n)\n",
    "    print(f'레몬이 {fresh_fruit[\"레몬\"]} 개 남았습니다.')\n",
    "\n",
    "def out_of_stock():\n",
    "    print(f'제료가 부족합니다. 재료를 보충해 주세요.')\n"
   ]
  },
  {
   "cell_type": "code",
   "execution_count": 193,
   "id": "c6316cf6",
   "metadata": {},
   "outputs": [
    {
     "name": "stdout",
     "output_type": "stream",
     "text": [
      "5\n",
      "레몬 5 개로 레모네이드 5 개를 만듭니다.\n",
      "레몬이 0 개 남았습니다.\n",
      "레몬 7 개로 레모네이드 7 개를 만듭니다.\n",
      "레몬이 0 개 남았습니다.\n"
     ]
    }
   ],
   "source": [
    "count = fresh_fruit.get('레몬', 0)\n",
    "print(count)\n",
    "if count:\n",
    "    make_lemonade(count)\n",
    "else:\n",
    "    out_of_stock()\n",
    "\n",
    "fresh_fruit['레몬'] = 7  # 테스트를 위해 갯수 리셋\n",
    "if count := fresh_fruit.get('레몬', 0): # 대입 후 평가\n",
    "    make_lemonade(count)\n",
    "else:\n",
    "    out_of_stock()"
   ]
  },
  {
   "cell_type": "code",
   "execution_count": 200,
   "id": "eee126ec",
   "metadata": {},
   "outputs": [
    {
     "name": "stdout",
     "output_type": "stream",
     "text": [
      "사과 10 개로 사과주스 2 개를 만듭니다.\n",
      "사과가 2 개 남았습니다.\n"
     ]
    }
   ],
   "source": [
    "def make_cider(count):\n",
    "    n = 4\n",
    "\n",
    "    print(f'사과 {count} 개로 사과주스 {count//n} 개를 만듭니다.')\n",
    "    fresh_fruit['사과'] -= (n *(count//n))\n",
    "    print(f'사과가 {fresh_fruit[\"사과\"]} 개 남았습니다.')\n",
    "\n",
    "fresh_fruit['사과'] = 10  # 테스트를 위해 갯수 리셋\n",
    "\n",
    "count = fresh_fruit.get('사과', 0)\n",
    "if count >= 4:\n",
    "    make_cider(count)\n",
    "else:\n",
    "    out_of_stock()"
   ]
  },
  {
   "cell_type": "code",
   "execution_count": 204,
   "id": "e04008d4",
   "metadata": {},
   "outputs": [
    {
     "name": "stdout",
     "output_type": "stream",
     "text": [
      "사과 10 개로 사과주스 2 개를 만듭니다.\n",
      "사과가 2 개 남았습니다.\n"
     ]
    }
   ],
   "source": [
    "fresh_fruit['사과'] = 10  # 테스트를 위해 갯수 리셋\n",
    "\n",
    "if (count := fresh_fruit.get('사과', 0)) >= 4:\n",
    "    make_cider(count)\n",
    "else:\n",
    "    out_of_stock()"
   ]
  },
  {
   "cell_type": "code",
   "execution_count": 205,
   "id": "c5389330",
   "metadata": {},
   "outputs": [],
   "source": [
    "def slice_bananas(count):\n",
    "    print(f'바나나 {count} 개를 슬라이스합니다.')\n",
    "    fresh_fruit['바나나'] -=  count\n",
    "    return count"
   ]
  },
  {
   "cell_type": "code",
   "execution_count": 206,
   "id": "b81ef78d",
   "metadata": {},
   "outputs": [
    {
     "name": "stdout",
     "output_type": "stream",
     "text": [
      "바나나 8 개를 슬라이스합니다.\n",
      "바나나 슬라이스 8 개로 스무디 4 개를 만듭니다.\n",
      "바나나가 0 개 남았습니다.\n"
     ]
    }
   ],
   "source": [
    "class OutOfBananas(Exception):\n",
    "    pass\n",
    "\n",
    "def make_smoothies(count):\n",
    "    n=2\n",
    "    if count > n:\n",
    "        print(f'바나나 슬라이스 {count} 개로 스무디 {count//n} 개를 만듭니다.')\n",
    "        print(f'바나나가 {fresh_fruit[\"바나나\"]} 개 남았습니다.')\n",
    "    else:\n",
    "        raise OutOfBananas\n",
    "\n",
    "pieces = 0\n",
    "count = fresh_fruit.get('바나나', 0)\n",
    "if count >= 2:\n",
    "    pieces = slice_bananas(count)\n",
    "\n",
    "try:\n",
    "    smoothies = make_smoothies(pieces)\n",
    "except OutOfBananas:\n",
    "    out_of_stock()"
   ]
  },
  {
   "cell_type": "code",
   "execution_count": 207,
   "id": "356e7d80",
   "metadata": {},
   "outputs": [
    {
     "name": "stdout",
     "output_type": "stream",
     "text": [
      "바나나 8 개를 슬라이스합니다.\n",
      "바나나 슬라이스 8 개로 스무디 4 개를 만듭니다.\n",
      "바나나가 0 개 남았습니다.\n"
     ]
    }
   ],
   "source": [
    "count = fresh_fruit.get('바나나', 0)\n",
    "if count >= 2:\n",
    "    pieces = slice_bananas(count)\n",
    "else:\n",
    "    pieces = 0\n",
    "\n",
    "fresh_fruit['바나나'] = 8  # 테스트를 위해 갯수 리셋\n",
    "\n",
    "pieces = 0\n",
    "if (count := fresh_fruit.get('바나나', 0)) >= 2:\n",
    "    pieces = slice_bananas(count)\n",
    "\n",
    "try:\n",
    "    smoothies = make_smoothies(pieces)\n",
    "except OutOfBananas:\n",
    "    out_of_stock()\n"
   ]
  },
  {
   "cell_type": "code",
   "execution_count": null,
   "id": "6ff06ec1",
   "metadata": {},
   "outputs": [],
   "source": []
  },
  {
   "cell_type": "code",
   "execution_count": 208,
   "id": "88ae5626",
   "metadata": {},
   "outputs": [
    {
     "name": "stdout",
     "output_type": "stream",
     "text": [
      "[('사과주스', 0.0), ('바나나스무디', 2.0), ('레모네이드', 9.0), ('사과주스', 1.5), ('바나나스무디', 4.0), ('레모네이드', 9.0), ('사과주스', 2.5), ('바나나스무디', 4.0), ('레모네이드', 2.0), ('사과주스', 1.75), ('바나나스무디', 0.0), ('레모네이드', 6.0)]\n",
      "[('사과주스', 1.25), ('바나나스무디', 3.0), ('레모네이드', 9.0), ('사과주스', 2.25), ('바나나스무디', 1.0), ('레모네이드', 3.0), ('사과주스', 0.75), ('바나나스무디', 4.5), ('레모네이드', 6.0), ('사과주스', 1.25), ('바나나스무디', 2.5), ('레모네이드', 6.0), ('사과주스', 0.5), ('바나나스무디', 1.5), ('레모네이드', 9.0), ('사과주스', 0.75), ('바나나스무디', 0.5), ('레모네이드', 3.0), ('사과주스', 2.0), ('바나나스무디', 5.0), ('레모네이드', 9.0), ('사과주스', 2.5), ('바나나스무디', 4.0), ('레모네이드', 1.0)]\n",
      "[('사과주스', 0.25), ('바나나스무디', 3.0), ('레모네이드', 10.0)]\n"
     ]
    }
   ],
   "source": [
    "import random\n",
    "\n",
    "def pick_fruit():\n",
    "    if random.randint(1,10) > 2:   # 80% 확률로 새 과일 보충\n",
    "        return {\n",
    "            '사과': random.randint(0,10),\n",
    "            '바나나': random.randint(0,10),\n",
    "            '레몬': random.randint(0,10),\n",
    "        }\n",
    "    else:\n",
    "        return None\n",
    "\n",
    "def make_juice(fruit, count):\n",
    "    if fruit == '사과':\n",
    "        return [('사과주스', count/4)]\n",
    "    elif fruit == '바나나':\n",
    "        return [('바나나스무디',count/2)]\n",
    "    elif fruit == '레몬':\n",
    "        return [('레모네이드',count/1)]\n",
    "    else:\n",
    "        return []\n",
    "\n",
    "\n",
    "bottles = []\n",
    "fresh_fruit = pick_fruit()\n",
    "while fresh_fruit:\n",
    "    for fruit, count in fresh_fruit.items():\n",
    "        batch = make_juice(fruit, count)\n",
    "        bottles.extend(batch)\n",
    "    fresh_fruit = pick_fruit()\n",
    "\n",
    "print(bottles)\n",
    "\n",
    "bottles = []\n",
    "while True: # 무한루프\n",
    "    fresh_fruit = pick_fruit()\n",
    "    if not fresh_fruit: # 중간에서 끝내기\n",
    "        break\n",
    "\n",
    "    for fruit, count in fresh_fruit.items():\n",
    "        batch = make_juice(fruit, count)\n",
    "        bottles.extend(batch)\n",
    "\n",
    "print(bottles)\n",
    "\n",
    "bottles = []\n",
    "while fresh_fruit := pick_fruit():\n",
    "    for fruit, count in fresh_fruit.items():\n",
    "        batch = make_juice(fruit, count)\n",
    "        bottles.extend(batch)\n",
    "\n",
    "print(bottles)"
   ]
  },
  {
   "cell_type": "code",
   "execution_count": null,
   "id": "ea42b7c5",
   "metadata": {},
   "outputs": [],
   "source": []
  }
 ],
 "metadata": {
  "kernelspec": {
   "display_name": "Python 3",
   "language": "python",
   "name": "python3"
  },
  "language_info": {
   "codemirror_mode": {
    "name": "ipython",
    "version": 3
   },
   "file_extension": ".py",
   "mimetype": "text/x-python",
   "name": "python",
   "nbconvert_exporter": "python",
   "pygments_lexer": "ipython3",
   "version": "3.8.8"
  }
 },
 "nbformat": 4,
 "nbformat_minor": 5
}
